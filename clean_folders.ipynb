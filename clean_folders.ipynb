{
 "cells": [
  {
   "cell_type": "code",
   "execution_count": 143,
   "metadata": {},
   "outputs": [],
   "source": [
    "import glob\n",
    "import os\n",
    "import pathlib\n",
    "import frontmatter\n",
    "import re\n",
    "import collections\n",
    "\n",
    "import yaml\n",
    "\n",
    "\n",
    "#------------------BEGIN HACKY --------------\n",
    "_mapping_tag = yaml.resolver.BaseResolver.DEFAULT_MAPPING_TAG\n",
    "\n",
    "def dict_representer(dumper, data):\n",
    "    return dumper.represent_dict(data.items())\n",
    "\n",
    "def dict_constructor(loader, node):\n",
    "    loader.flatten_mapping(node)\n",
    "    return collections.OrderedDict(loader.construct_pairs(node))\n",
    "\n",
    "def null_representer(dumper, value):\n",
    "    return dumper.represent_scalar(u'tag:yaml.org,2002:null', '')\n",
    "\n",
    "try:\n",
    "    yaml.CSafeDumper.add_representer(collections.OrderedDict, dict_representer)\n",
    "    yaml.CSafeDumper.add_representer(type(None), null_representer)\n",
    "except (AttributeError, ImportError):\n",
    "    pass\n",
    "\n",
    "\n",
    "\n",
    "yaml.SafeDumper.add_representer(collections.OrderedDict, dict_representer)\n",
    "yaml.SafeDumper.add_representer(type(None), null_representer)\n",
    "yaml.SafeLoader.add_constructor(_mapping_tag, dict_constructor)\n",
    "\n",
    "#------------------END HACKY --------------\n",
    "\n",
    "\n",
    "content = glob.glob('content/**/*.md')\n",
    "\n",
    "\n",
    "\n"
   ]
  },
  {
   "cell_type": "code",
   "execution_count": 144,
   "metadata": {},
   "outputs": [
    {
     "name": "stdout",
     "output_type": "stream",
     "text": [
      "path does not exist static\\2016/02/n55e012.png\n",
      "path does not exist static\\2016/02/bamberaspinall20s2-1.png\n",
      "path does not exist static\\2016/02/ICATdamagefrequency.png\n",
      "path does not exist static\\2016/02/projections.png\n",
      "path does not exist static\\2016/02/SBB20view.jpg\n",
      "NOT MOVING com/035_Oligocene_3globes.jpg\n",
      "path does not exist static\\2008/02/1280px-Clouds_over_the_Atlantic_Ocean.jpg\n",
      "path does not exist static\\2008/02/smodel.jpg\n",
      "path does not exist static\\Home/PDFs/Announcements/Present-day-summers-in-Svalbard-are-warmer-than-the-medieval-warm-period-/washout.jpg\n",
      "path does not exist static\\2011/04/Genova-1810ca-acquatinta-Garneray-part-mura.jpg\n",
      "path does not exist static\\Home/PDFs/Announcements/commentonthesubsidenceadjustmentappliedtothekempetalproxyofnorthcarolinarelativesealevel/engelhart-kemp.png\n",
      "path does not exist static\\2016/02/moore2011.png\n",
      "path does not exist static\\2014/03/Pinatubo91eruption_plume.jpg\n",
      "path does not exist static\\2014/10/PR.png\n",
      "path does not exist static\\2016/02/PRen.png\n",
      "path does not exist static\\2016/02/slregions.png\n",
      "path does not exist static\\2020/eastgrip.jpg\n"
     ]
    }
   ],
   "source": [
    "\n",
    "for sourcefile in content:\n",
    "    basename = os.path.basename(sourcefile)\n",
    "    if basename == '_index.md':\n",
    "        continue\n",
    "    post = frontmatter.load(sourcefile)\n",
    "    year = post.metadata['date'].year\n",
    "    targetfolder = re.findall(r'^(\\w+[/\\\\]\\w+)',os.path.dirname(sourcefile))[0] \n",
    "    targetfolder = os.path.join(targetfolder,f'{year:.0f}')\n",
    "    targetfile = os.path.join(targetfolder,basename)\n",
    "    #print(targetfile,sourcefile)\n",
    "    post.metadata = collections.OrderedDict(post.metadata)\n",
    "    post.metadata.move_to_end('title', last=False)\n",
    "    #then reverse\n",
    "    \n",
    "    os.makedirs(targetfolder, exist_ok=True)\n",
    "\n",
    "    banner = post.metadata['banner']\n",
    "    #images = re.findall(r'!\\[[^\\]]*\\]\\((.*?)\\s*(\"(?:.*[^\"])\")?\\s*\\)',post.content) #https://stackoverflow.com/questions/44227270/regex-to-parse-image-link-in-markdown\n",
    "    images = re.findall(r\"([-/\\w]+/[-/\\w]+\\.(?:jpg|gif|png|jpeg|webp|tif|tiff))\",post.content) \n",
    "    images.append(banner)\n",
    "\n",
    "    outputpost = frontmatter.dumps(post)\n",
    "    for source_image_url in images:\n",
    "        target_image = os.path.join(targetfolder, os.path.basename(source_image_url))\n",
    "        target_image_url = target_image.replace('\\\\','/').replace('content','')\n",
    "        if source_image_url[0]=='/':\n",
    "            source_image = os.path.join('static',source_image_url[1:])\n",
    "        else:\n",
    "            print('NOT MOVING',source_image_url)\n",
    "            continue\n",
    "        #print('FILE:', source_image, '->', target_image)\n",
    "        #print('URL:', source_image_url, '->', target_image_url)\n",
    "\n",
    "        if not os.path.exists(source_image):\n",
    "            print('path does not exist', source_image)\n",
    "            continue\n",
    "\n",
    "        outputpost = outputpost.replace(source_image_url,target_image_url)\n",
    "        \n",
    "        os.rename(source_image,target_image)\n",
    "\n",
    "    os.remove(sourcefile)\n",
    "    with open(targetfile, \"w\") as text_file:\n",
    "        text_file.write(outputpost)\n",
    "\n",
    "\n",
    "\n",
    "    \n",
    "    #if len(images)>4:\n",
    "    #    break\n",
    "\n",
    "    #orig_bannerimg = \n",
    "    #print()\n",
    "    #break"
   ]
  },
  {
   "cell_type": "code",
   "execution_count": null,
   "metadata": {},
   "outputs": [],
   "source": []
  },
  {
   "cell_type": "code",
   "execution_count": null,
   "metadata": {},
   "outputs": [
    {
     "data": {
      "text/plain": [
       "<function OrderedDict.__reversed__>"
      ]
     },
     "execution_count": 104,
     "metadata": {},
     "output_type": "execute_result"
    }
   ],
   "source": [
    "\n"
   ]
  },
  {
   "cell_type": "code",
   "execution_count": null,
   "metadata": {},
   "outputs": [
    {
     "ename": "TypeError",
     "evalue": "YAMLHandler.export() missing 1 required positional argument: 'metadata'",
     "output_type": "error",
     "traceback": [
      "\u001b[1;31m---------------------------------------------------------------------------\u001b[0m",
      "\u001b[1;31mTypeError\u001b[0m                                 Traceback (most recent call last)",
      "Cell \u001b[1;32mIn[65], line 1\u001b[0m\n\u001b[1;32m----> 1\u001b[0m \u001b[43mpost\u001b[49m\u001b[38;5;241;43m.\u001b[39;49m\u001b[43mhandler\u001b[49m\u001b[38;5;241;43m.\u001b[39;49m\u001b[43mexport\u001b[49m\u001b[43m(\u001b[49m\u001b[43m)\u001b[49m\n",
      "\u001b[1;31mTypeError\u001b[0m: YAMLHandler.export() missing 1 required positional argument: 'metadata'"
     ]
    }
   ],
   "source": []
  },
  {
   "cell_type": "code",
   "execution_count": 13,
   "metadata": {},
   "outputs": [],
   "source": [
    "post = frontmatter.load(sourcefile)"
   ]
  },
  {
   "cell_type": "code",
   "execution_count": 18,
   "metadata": {},
   "outputs": [
    {
     "data": {
      "text/plain": [
       "'/2010/02/sia.jpg'"
      ]
     },
     "execution_count": 18,
     "metadata": {},
     "output_type": "execute_result"
    }
   ],
   "source": [
    "post.metadata['banner']"
   ]
  },
  {
   "cell_type": "code",
   "execution_count": null,
   "metadata": {},
   "outputs": [
    {
     "data": {
      "text/plain": [
       "['23/432421/45_345.png']"
      ]
     },
     "execution_count": 139,
     "metadata": {},
     "output_type": "execute_result"
    }
   ],
   "source": [
    "re.findall(r\"([-/\\w]+/[-/\\w]+\\.(?:jpg|gif|png|jpeg|webp|tif|tiff))\",'dsafdsaf asdfafds.png /123/432421/45_345.png dsfadf')"
   ]
  },
  {
   "cell_type": "code",
   "execution_count": null,
   "metadata": {},
   "outputs": [],
   "source": []
  }
 ],
 "metadata": {
  "kernelspec": {
   "display_name": "base",
   "language": "python",
   "name": "python3"
  },
  "language_info": {
   "codemirror_mode": {
    "name": "ipython",
    "version": 3
   },
   "file_extension": ".py",
   "mimetype": "text/x-python",
   "name": "python",
   "nbconvert_exporter": "python",
   "pygments_lexer": "ipython3",
   "version": "3.11.9"
  }
 },
 "nbformat": 4,
 "nbformat_minor": 2
}
